{
 "cells": [
  {
   "cell_type": "markdown",
   "id": "6e2a319b",
   "metadata": {},
   "source": [
    "# WebScrapping using BeautifulSoup"
   ]
  },
  {
   "cell_type": "code",
   "execution_count": 2,
   "id": "50c7207d",
   "metadata": {},
   "outputs": [],
   "source": [
    "#!pip install beautifulsoup4\n",
    "from bs4 import BeautifulSoup\n",
    "import requests"
   ]
  },
  {
   "cell_type": "code",
   "execution_count": 3,
   "id": "0b1b9662",
   "metadata": {},
   "outputs": [
    {
     "name": "stdout",
     "output_type": "stream",
     "text": [
      "Website found successfully :)\n",
      "https://www.google.com/search?q=campo+receptivo+cnn\n"
     ]
    }
   ],
   "source": [
    "def busca_google(termos = None):\n",
    "    soup = None\n",
    "    headers = {'User-Agent': 'Mozilla/5.0 (X11; Linux x86_64) AppleWebKit/537.36 (KHTML, like Gecko) Chrome/121.0.0.0 Safari/537.36'}\n",
    "\n",
    "    if termos is None:\n",
    "        termos = input(\"Pesquisar no google:\")\n",
    "    else:\n",
    "        termos = termos.replace(\" \", \"+\")\n",
    "    \n",
    "    url = 'https://www.google.com/search?q='+termos\n",
    "    pagina = requests.get(url, headers = headers)\n",
    "\n",
    "    if pagina.status_code == 200:\n",
    "        print(\"Website found successfully :)\")\n",
    "        print(url)\n",
    "        html = pagina.text\n",
    "        soup = BeautifulSoup(html, features='html.parser')\n",
    "        return soup\n",
    "    else: \n",
    "        print(\"Something went wrong :(\")\n",
    "        return None\n",
    "    \n",
    "soup = busca_google(\"campo receptivo cnn\")"
   ]
  },
  {
   "cell_type": "code",
   "execution_count": 6,
   "id": "dcf3220c",
   "metadata": {},
   "outputs": [
    {
     "data": {
      "text/plain": [
       "['Observe que, se tivermos uma imagem de entrada 28 × 28 e campos receptivos locais 5 × 5, haverá 24 × 24 neurônios na camada oculta. Isso ocorre porque só\\xa0...',\n",
       " 'Quando isso acontece, a estrutura da CNN pode se tornar hierárquica, pois as camadas posteriores podem ver os pixels dentro dos campos receptivos das camadas\\xa0...',\n",
       " 'Os neurônios individuais respondem a estímulos apenas em uma região restrita do campo visual conhecida como Campo Receptivo. Uma coleção desses campos se\\xa0...',\n",
       " 'Os campos receptivos de diferentes neurônios se sobrepõem parcialmente de forma a cobrir todo o campo de visão. Uma CNN tende a demandar um nivel minimo de pre-\\xa0...',\n",
       " None,\n",
       " 'A área analisada (campo receptivo) é um pouco maior que o kernel, pois uma etapa é adicionada para que os campos receptivos se sobreponham.',\n",
       " 'Há quatro operações principais em uma CNN: Convolução; Não linearidade ... Uma convolução converte todos os pixels em seu campo receptivo em um único valor.',\n",
       " 'Pensa-se que o uso de campos receptivos dessa maneira dê às CNN uma vantagem no reconhecimento de padrões visuais quando comparados a outros tipos de redes.',\n",
       " None,\n",
       " 'Assim como cada neurônio responde a estímulos apenas na região restrita do campo visual chamada campo receptivo no sistema de visão biológica,\\xa0...']"
      ]
     },
     "execution_count": 6,
     "metadata": {},
     "output_type": "execute_result"
    }
   ],
   "source": [
    "def seleciona_atr(soup, selecao = 'a', atr = 'href'):    \n",
    "    retorno = []\n",
    "    items = soup.select(selecao)\n",
    "    for item in items:\n",
    "        if atr == \"text\":\n",
    "            texto = item.get_text()\n",
    "            if(len(texto)>25):\n",
    "                retorno.append(item.get_text())\n",
    "            else:\n",
    "                retorno.append(None)\n",
    "        elif item.has_attr(atr): #caso o atributo não exista o retorno da função é None mas quis utilizar a função para aprendizado\n",
    "            valor = item.get(atr)\n",
    "            retorno.append(valor)\n",
    "        else:\n",
    "            retorno.append(None)\n",
    "    return retorno\n",
    "\n",
    "# links encontrados da busca\n",
    "seleciona_atr(soup,selecao= \"div.yuRUbf>div>span>a\", atr =\"href\")\n",
    "\n",
    "# Links das próximas paginas da busca\n",
    "seleciona_atr(soup,selecao= \"a.fl\", atr =\"href\")\n",
    "\n",
    "# TEXTOS\n",
    "seleciona_atr(soup,selecao= \"div.VwiC3b>span\", atr =\"text\")\n",
    "\n",
    "# TÍTULOS\n",
    "seleciona_atr(soup,selecao= \"h3.LC20lb\", atr =\"text\")"
   ]
  },
  {
   "cell_type": "code",
   "execution_count": 9,
   "id": "bc3a6229",
   "metadata": {},
   "outputs": [],
   "source": [
    "def cria_soup(url = None):\n",
    "    soup = None\n",
    "    headers = {'User-Agent': 'Mozilla/5.0 (X11; Linux x86_64) AppleWebKit/537.36 (KHTML, like Gecko) Chrome/121.0.0.0 Safari/537.36'}\n",
    "\n",
    "    pagina = requests.get(url, headers = headers)\n",
    "\n",
    "    if pagina.status_code == 200:\n",
    "        print(\"Website found successfully :)\")\n",
    "        print(url)\n",
    "        html = pagina.text\n",
    "        soup = BeautifulSoup(html, features='html.parser')\n",
    "        return soup\n",
    "    else: \n",
    "        print(\"Something went wrong :(\")\n",
    "        return None"
   ]
  },
  {
   "cell_type": "code",
   "execution_count": 13,
   "id": "b7f11401",
   "metadata": {},
   "outputs": [
    {
     "name": "stdout",
     "output_type": "stream",
     "text": [
      "Website found successfully :)\n",
      "https://www.google.com/search?q=campo+receptivo+cnn&sca_esv=002814a41a3b5461&ei=Zrq-ZoXaOZXL1sQPrJCpuQs&start=10&sa=N&sstk=Aagrsugq0uSCPIu-oUrmcHVzuJcZKBMoc584-szdG4isX66jdkBpy90aWIfz352gcgMuZKF9aAuaLURAJZBtLSiHfTMUWEHVmOMWow&ved=2ahUKEwiFpZW-vPiHAxWVpZUCHSxIKrcQ8tMDegQIBBAE\n",
      "Website found successfully :)\n",
      "https://www.google.com/search?q=campo+receptivo+cnn&sca_esv=002814a41a3b5461&ei=Zrq-ZoXaOZXL1sQPrJCpuQs&start=20&sa=N&sstk=Aagrsugq0uSCPIu-oUrmcHVzuJcZKBMoc584-szdG4isX66jdkBpy90aWIfz352gcgMuZKF9aAuaLURAJZBtLSiHfTMUWEHVmOMWow&ved=2ahUKEwiFpZW-vPiHAxWVpZUCHSxIKrcQ8tMDegQIBBAG\n",
      "Website found successfully :)\n",
      "https://www.google.com/search?q=campo+receptivo+cnn&sca_esv=002814a41a3b5461&ei=Zrq-ZoXaOZXL1sQPrJCpuQs&start=30&sa=N&sstk=Aagrsugq0uSCPIu-oUrmcHVzuJcZKBMoc584-szdG4isX66jdkBpy90aWIfz352gcgMuZKF9aAuaLURAJZBtLSiHfTMUWEHVmOMWow&ved=2ahUKEwiFpZW-vPiHAxWVpZUCHSxIKrcQ8tMDegQIBBAI\n",
      "Website found successfully :)\n",
      "https://www.google.com/search?q=campo+receptivo+cnn&sca_esv=002814a41a3b5461&ei=Zrq-ZoXaOZXL1sQPrJCpuQs&start=40&sa=N&sstk=Aagrsugq0uSCPIu-oUrmcHVzuJcZKBMoc584-szdG4isX66jdkBpy90aWIfz352gcgMuZKF9aAuaLURAJZBtLSiHfTMUWEHVmOMWow&ved=2ahUKEwiFpZW-vPiHAxWVpZUCHSxIKrcQ8tMDegQIBBAK\n",
      "Website found successfully :)\n",
      "https://www.google.com/search?q=campo+receptivo+cnn&sca_esv=002814a41a3b5461&ei=Zrq-ZoXaOZXL1sQPrJCpuQs&start=50&sa=N&sstk=Aagrsugq0uSCPIu-oUrmcHVzuJcZKBMoc584-szdG4isX66jdkBpy90aWIfz352gcgMuZKF9aAuaLURAJZBtLSiHfTMUWEHVmOMWow&ved=2ahUKEwiFpZW-vPiHAxWVpZUCHSxIKrcQ8tMDegQIBBAM\n",
      "Website found successfully :)\n",
      "https://www.google.com/search?q=campo+receptivo+cnn&sca_esv=002814a41a3b5461&ei=Zrq-ZoXaOZXL1sQPrJCpuQs&start=60&sa=N&sstk=Aagrsugq0uSCPIu-oUrmcHVzuJcZKBMoc584-szdG4isX66jdkBpy90aWIfz352gcgMuZKF9aAuaLURAJZBtLSiHfTMUWEHVmOMWow&ved=2ahUKEwiFpZW-vPiHAxWVpZUCHSxIKrcQ8tMDegQIBBAO\n",
      "Website found successfully :)\n",
      "https://www.google.com/search?q=campo+receptivo+cnn&sca_esv=002814a41a3b5461&ei=Zrq-ZoXaOZXL1sQPrJCpuQs&start=70&sa=N&sstk=Aagrsugq0uSCPIu-oUrmcHVzuJcZKBMoc584-szdG4isX66jdkBpy90aWIfz352gcgMuZKF9aAuaLURAJZBtLSiHfTMUWEHVmOMWow&ved=2ahUKEwiFpZW-vPiHAxWVpZUCHSxIKrcQ8tMDegQIBBAQ\n",
      "Website found successfully :)\n",
      "https://www.google.com/search?q=campo+receptivo+cnn&sca_esv=002814a41a3b5461&ei=Zrq-ZoXaOZXL1sQPrJCpuQs&start=80&sa=N&sstk=Aagrsugq0uSCPIu-oUrmcHVzuJcZKBMoc584-szdG4isX66jdkBpy90aWIfz352gcgMuZKF9aAuaLURAJZBtLSiHfTMUWEHVmOMWow&ved=2ahUKEwiFpZW-vPiHAxWVpZUCHSxIKrcQ8tMDegQIBBAS\n",
      "Website found successfully :)\n",
      "https://www.google.com/search?q=campo+receptivo+cnn&sca_esv=002814a41a3b5461&ei=Zrq-ZoXaOZXL1sQPrJCpuQs&start=90&sa=N&sstk=Aagrsugq0uSCPIu-oUrmcHVzuJcZKBMoc584-szdG4isX66jdkBpy90aWIfz352gcgMuZKF9aAuaLURAJZBtLSiHfTMUWEHVmOMWow&ved=2ahUKEwiFpZW-vPiHAxWVpZUCHSxIKrcQ8tMDegQIBBAU\n"
     ]
    }
   ],
   "source": [
    "proximas_pags = seleciona_atr(soup,selecao= \"a.fl\", atr =\"href\")\n",
    "soups = []\n",
    "for pag in proximas_pags:\n",
    "    soup_ = cria_soap(url = 'https://www.google.com'+pag)\n",
    "    soups.append(soup_)"
   ]
  },
  {
   "cell_type": "code",
   "execution_count": null,
   "id": "3231b770",
   "metadata": {},
   "outputs": [],
   "source": []
  }
 ],
 "metadata": {
  "kernelspec": {
   "display_name": "Python 3 (ipykernel)",
   "language": "python",
   "name": "python3"
  },
  "language_info": {
   "codemirror_mode": {
    "name": "ipython",
    "version": 3
   },
   "file_extension": ".py",
   "mimetype": "text/x-python",
   "name": "python",
   "nbconvert_exporter": "python",
   "pygments_lexer": "ipython3",
   "version": "3.10.12"
  }
 },
 "nbformat": 4,
 "nbformat_minor": 5
}
