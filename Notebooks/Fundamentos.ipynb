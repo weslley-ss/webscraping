{
 "cells": [
  {
   "cell_type": "markdown",
   "id": "6e2a319b",
   "metadata": {},
   "source": [
    "# WEBSCRAPPING USING BeautifulSoup"
   ]
  },
  {
   "cell_type": "code",
   "execution_count": 43,
   "id": "50c7207d",
   "metadata": {},
   "outputs": [],
   "source": [
    "#!pip install beautifulsoup4\n",
    "from bs4 import BeautifulSoup\n",
    "import requests\n",
    "headers = {'User-Agent': 'Mozilla/5.0 (X11; Linux x86_64) AppleWebKit/537.36 (KHTML, like Gecko) Chrome/121.0.0.0 Safari/537.36'}"
   ]
  },
  {
   "cell_type": "code",
   "execution_count": 44,
   "id": "0b1b9662",
   "metadata": {},
   "outputs": [
    {
     "name": "stdout",
     "output_type": "stream",
     "text": [
      "Website found successfully :)\n"
     ]
    }
   ],
   "source": [
    "soup = None\n",
    "url = 'https://www.google.com/search?q=campo+receptivo+cnn'\n",
    "pagina = requests.get(url, headers = headers)\n",
    "if pagina.status_code== 200:\n",
    "    print(\"Website found successfully :)\")\n",
    "    html = pagina.text\n",
    "    soup = BeautifulSoup(html, features='html.parser')\n",
    "    #print(soup.prettify())\n",
    "else: \n",
    "    print(\"something went wrong :(\")"
   ]
  },
  {
   "cell_type": "code",
   "execution_count": 45,
   "id": "8c9eaec4",
   "metadata": {},
   "outputs": [],
   "source": [
    "# Principais termos relacionados aos títulos dos artigos:\n",
    "def pega_titulos(soup):\n",
    "    palavras = \"\"\n",
    "    titulos = soup.find_all('h3')\n",
    "    for titulo in titulos:\n",
    "        #print(titulo.get_text())\n",
    "        palavras += f\" {titulo.get_text()}\"\n",
    "    return palavras.split()\n",
    "#pega_titulos(soup)"
   ]
  },
  {
   "cell_type": "code",
   "execution_count": 48,
   "id": "dcf3220c",
   "metadata": {},
   "outputs": [
    {
     "data": {
      "text/plain": [
       "['/search?q=campo+receptivo+cnn&sca_esv=2a2dd4cd458323c6&sca_upv=1&ei=OzS0Zrq_MYu75OUP4_ariA4&start=10&sa=N&sstk=AagrsujuaUloV2gaGAJKMgRtceHJKNaCC15IBlH4Za_HYmlkvuZiqVcyM5aZltYhVtkVbgydg0jcv6x7kczccLOc_6kg2YgcJxGGAw&ved=2ahUKEwj6yJaQs-SHAxWLHbkGHWP7CuEQ8tMDegQICBAE',\n",
       " '/search?q=campo+receptivo+cnn&sca_esv=2a2dd4cd458323c6&sca_upv=1&ei=OzS0Zrq_MYu75OUP4_ariA4&start=20&sa=N&sstk=AagrsujuaUloV2gaGAJKMgRtceHJKNaCC15IBlH4Za_HYmlkvuZiqVcyM5aZltYhVtkVbgydg0jcv6x7kczccLOc_6kg2YgcJxGGAw&ved=2ahUKEwj6yJaQs-SHAxWLHbkGHWP7CuEQ8tMDegQICBAG',\n",
       " '/search?q=campo+receptivo+cnn&sca_esv=2a2dd4cd458323c6&sca_upv=1&ei=OzS0Zrq_MYu75OUP4_ariA4&start=30&sa=N&sstk=AagrsujuaUloV2gaGAJKMgRtceHJKNaCC15IBlH4Za_HYmlkvuZiqVcyM5aZltYhVtkVbgydg0jcv6x7kczccLOc_6kg2YgcJxGGAw&ved=2ahUKEwj6yJaQs-SHAxWLHbkGHWP7CuEQ8tMDegQICBAI',\n",
       " '/search?q=campo+receptivo+cnn&sca_esv=2a2dd4cd458323c6&sca_upv=1&ei=OzS0Zrq_MYu75OUP4_ariA4&start=40&sa=N&sstk=AagrsujuaUloV2gaGAJKMgRtceHJKNaCC15IBlH4Za_HYmlkvuZiqVcyM5aZltYhVtkVbgydg0jcv6x7kczccLOc_6kg2YgcJxGGAw&ved=2ahUKEwj6yJaQs-SHAxWLHbkGHWP7CuEQ8tMDegQICBAK',\n",
       " '/search?q=campo+receptivo+cnn&sca_esv=2a2dd4cd458323c6&sca_upv=1&ei=OzS0Zrq_MYu75OUP4_ariA4&start=50&sa=N&sstk=AagrsujuaUloV2gaGAJKMgRtceHJKNaCC15IBlH4Za_HYmlkvuZiqVcyM5aZltYhVtkVbgydg0jcv6x7kczccLOc_6kg2YgcJxGGAw&ved=2ahUKEwj6yJaQs-SHAxWLHbkGHWP7CuEQ8tMDegQICBAM',\n",
       " '/search?q=campo+receptivo+cnn&sca_esv=2a2dd4cd458323c6&sca_upv=1&ei=OzS0Zrq_MYu75OUP4_ariA4&start=60&sa=N&sstk=AagrsujuaUloV2gaGAJKMgRtceHJKNaCC15IBlH4Za_HYmlkvuZiqVcyM5aZltYhVtkVbgydg0jcv6x7kczccLOc_6kg2YgcJxGGAw&ved=2ahUKEwj6yJaQs-SHAxWLHbkGHWP7CuEQ8tMDegQICBAO',\n",
       " '/search?q=campo+receptivo+cnn&sca_esv=2a2dd4cd458323c6&sca_upv=1&ei=OzS0Zrq_MYu75OUP4_ariA4&start=70&sa=N&sstk=AagrsujuaUloV2gaGAJKMgRtceHJKNaCC15IBlH4Za_HYmlkvuZiqVcyM5aZltYhVtkVbgydg0jcv6x7kczccLOc_6kg2YgcJxGGAw&ved=2ahUKEwj6yJaQs-SHAxWLHbkGHWP7CuEQ8tMDegQICBAQ',\n",
       " '/search?q=campo+receptivo+cnn&sca_esv=2a2dd4cd458323c6&sca_upv=1&ei=OzS0Zrq_MYu75OUP4_ariA4&start=80&sa=N&sstk=AagrsujuaUloV2gaGAJKMgRtceHJKNaCC15IBlH4Za_HYmlkvuZiqVcyM5aZltYhVtkVbgydg0jcv6x7kczccLOc_6kg2YgcJxGGAw&ved=2ahUKEwj6yJaQs-SHAxWLHbkGHWP7CuEQ8tMDegQICBAS',\n",
       " '/search?q=campo+receptivo+cnn&sca_esv=2a2dd4cd458323c6&sca_upv=1&ei=OzS0Zrq_MYu75OUP4_ariA4&start=90&sa=N&sstk=AagrsujuaUloV2gaGAJKMgRtceHJKNaCC15IBlH4Za_HYmlkvuZiqVcyM5aZltYhVtkVbgydg0jcv6x7kczccLOc_6kg2YgcJxGGAw&ved=2ahUKEwj6yJaQs-SHAxWLHbkGHWP7CuEQ8tMDegQICBAU']"
      ]
     },
     "execution_count": 48,
     "metadata": {},
     "output_type": "execute_result"
    }
   ],
   "source": [
    "def retorna_links(soup, tag = 'a', ponteiro = {\"class\":\"fl\"}):\n",
    "    links = []\n",
    "    items = soup.find_all(tag, ponteiro)\n",
    "    for item in items:\n",
    "        links.append(item['href'])\n",
    "    return links\n",
    "retorna_links(soup)"
   ]
  },
  {
   "cell_type": "code",
   "execution_count": null,
   "id": "bf1ac1d8",
   "metadata": {},
   "outputs": [],
   "source": [
    "\"\"\"def seleciona_atr(soup, selecao = 'a', atr = 'href'):    \n",
    "    retorno = []\n",
    "    items = soup.select(selecao)\n",
    "    print(items)\n",
    "    for item in items:\n",
    "        retorno.append(item[atr])\n",
    "    return retorno\n",
    "seleciona_atr(soup)\"\"\""
   ]
  }
 ],
 "metadata": {
  "kernelspec": {
   "display_name": "Python 3 (ipykernel)",
   "language": "python",
   "name": "python3"
  },
  "language_info": {
   "codemirror_mode": {
    "name": "ipython",
    "version": 3
   },
   "file_extension": ".py",
   "mimetype": "text/x-python",
   "name": "python",
   "nbconvert_exporter": "python",
   "pygments_lexer": "ipython3",
   "version": "3.10.12"
  }
 },
 "nbformat": 4,
 "nbformat_minor": 5
}
